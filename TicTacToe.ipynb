{
 "cells": [
  {
   "cell_type": "markdown",
   "metadata": {},
   "source": [
    "<h1><b>Tic-Tac-Toe Program"
   ]
  },
  {
   "cell_type": "markdown",
   "metadata": {},
   "source": [
    "<h7><b>Importing libraraies"
   ]
  },
  {
   "cell_type": "code",
   "execution_count": 1,
   "metadata": {},
   "outputs": [],
   "source": [
    "import numpy as np\n",
    "from tkinter import *\n",
    "from tkinter import messagebox"
   ]
  },
  {
   "cell_type": "markdown",
   "metadata": {},
   "source": [
    "<h7><b>Creates an empty board "
   ]
  },
  {
   "cell_type": "code",
   "execution_count": 2,
   "metadata": {},
   "outputs": [],
   "source": [
    "def create_board():\n",
    "    return(np.array([[0, 0, 0], \n",
    "                     [0, 0, 0], \n",
    "                     [0, 0, 0]]))"
   ]
  },
  {
   "cell_type": "markdown",
   "metadata": {},
   "source": [
    "<h7><b>Places 'X' or 'O' at particular location "
   ]
  },
  {
   "cell_type": "code",
   "execution_count": 3,
   "metadata": {},
   "outputs": [],
   "source": [
    "def demoPlacer(current_loc,player):\n",
    "    global Board_stack\n",
    "    global Move\n",
    "    board[current_loc]=player\n",
    "    Move=Move+1\n",
    "    Board_stack.append([board,current_loc])\n",
    "    return(board)"
   ]
  },
  {
   "cell_type": "markdown",
   "metadata": {},
   "source": [
    "<h7><b>Resets the board"
   ]
  },
  {
   "cell_type": "code",
   "execution_count": 4,
   "metadata": {},
   "outputs": [],
   "source": [
    "def reset(buttons):\n",
    "    global Move\n",
    "    global board\n",
    "    global Borad_stack\n",
    "    global bclick\n",
    "    Move=0\n",
    "    bclick=True\n",
    "    Board_stack=[]\n",
    "    board=create_board()\n",
    "    for button in buttons:\n",
    "        button[\"text\"]=\" \""
   ]
  },
  {
   "cell_type": "markdown",
   "metadata": {},
   "source": [
    "<h7><b>Undo one move"
   ]
  },
  {
   "cell_type": "code",
   "execution_count": 5,
   "metadata": {},
   "outputs": [],
   "source": [
    "def undo(buttons):\n",
    "    global Board_stack\n",
    "    global Move\n",
    "    global bclick\n",
    "    if Move!=0:\n",
    "        bclick=not bclick\n",
    "        t=Board_stack[Move-1]\n",
    "        Move=Move-1\n",
    "        t[0][t[1]]=0\n",
    "        r=t[1][0]\n",
    "        c=t[1][1]\n",
    "        buttons[(r*3+c)][\"text\"]=\" \"\n",
    "        board[t[1]]=0"
   ]
  },
  {
   "cell_type": "markdown",
   "metadata": {},
   "source": [
    "<h7><b> Redo one move"
   ]
  },
  {
   "cell_type": "code",
   "execution_count": 6,
   "metadata": {},
   "outputs": [],
   "source": [
    "def redo(buttons):\n",
    "    global Board_stack\n",
    "    global Move\n",
    "    global bclick\n",
    "    if len(Board_stack)>=Move+1:\n",
    "        Move=Move+1\n",
    "        t=Board_stack[Move-1]\n",
    "        r=t[1][0]\n",
    "        c=t[1][1]\n",
    "        if bclick:\n",
    "            buttons[(r*3+c)][\"text\"]=\"X\"\n",
    "            board[t[1]]=1\n",
    "        else:\n",
    "            buttons[(r*3+c)][\"text\"]=\"O\"\n",
    "            board[t[1]]=2\n",
    "        bclick=not bclick"
   ]
  },
  {
   "cell_type": "markdown",
   "metadata": {},
   "source": [
    "<h7><b> Checks whether the player has three of their marks in a horizontal row "
   ]
  },
  {
   "cell_type": "code",
   "execution_count": 7,
   "metadata": {},
   "outputs": [],
   "source": [
    "def row_win(board, player): \n",
    "    for x in range(len(board)): \n",
    "        win = True\n",
    "          \n",
    "        for y in range(len(board)): \n",
    "            if board[x, y] != player: \n",
    "                win = False\n",
    "                continue\n",
    "                  \n",
    "        if win == True: \n",
    "            return(win) \n",
    "    return(win)"
   ]
  },
  {
   "cell_type": "markdown",
   "metadata": {},
   "source": [
    "<h7><b> Checks whether the player has three of their marks in a vertical row"
   ]
  },
  {
   "cell_type": "code",
   "execution_count": 8,
   "metadata": {},
   "outputs": [],
   "source": [
    "def col_win(board, player): \n",
    "    for x in range(len(board)): \n",
    "        win = True\n",
    "          \n",
    "        for y in range(len(board)): \n",
    "            if board[y][x] != player: \n",
    "                win = False\n",
    "                continue\n",
    "                  \n",
    "        if win == True: \n",
    "            return(win) \n",
    "    return(win) "
   ]
  },
  {
   "cell_type": "markdown",
   "metadata": {},
   "source": [
    "<h7><b> Checks whether the player has three of their marks in a diagonal row "
   ]
  },
  {
   "cell_type": "code",
   "execution_count": 9,
   "metadata": {},
   "outputs": [],
   "source": [
    "def diag_win(board, player): \n",
    "    win = True\n",
    "      \n",
    "    for x in range(len(board)): \n",
    "        if board[x, x] != player: \n",
    "            win = False\n",
    "    return(win)"
   ]
  },
  {
   "cell_type": "markdown",
   "metadata": {},
   "source": [
    "<h7><b> Checks whether the player has three of their marks in a opposite diagonal row "
   ]
  },
  {
   "cell_type": "code",
   "execution_count": 10,
   "metadata": {},
   "outputs": [],
   "source": [
    "def oppdiag_win(board, player): \n",
    "    win = True\n",
    "      \n",
    "    for x in range(len(board)): \n",
    "        if board[x, 2-x] != player: \n",
    "            win = False\n",
    "    return(win)"
   ]
  },
  {
   "cell_type": "markdown",
   "metadata": {},
   "source": [
    "<h7><b> Evaluates whether there is a winner or a tie"
   ]
  },
  {
   "cell_type": "code",
   "execution_count": 11,
   "metadata": {},
   "outputs": [],
   "source": [
    "def evaluate(board): \n",
    "    winner = 0\n",
    "     \n",
    "    for player in [1, 2]: \n",
    "        if (row_win(board, player) or\n",
    "            col_win(board,player) or \n",
    "            diag_win(board,player)or \n",
    "            oppdiag_win(board,player)): \n",
    "                 \n",
    "            winner = player \n",
    "              \n",
    "    if np.all(board != 0) and winner == 0: \n",
    "        winner = -1\n",
    "    return winner"
   ]
  },
  {
   "cell_type": "markdown",
   "metadata": {},
   "source": [
    "<h7><b> Gui mechanisim."
   ]
  },
  {
   "cell_type": "code",
   "execution_count": 12,
   "metadata": {},
   "outputs": [],
   "source": [
    "def ttt(buttons,i,j):\n",
    "    global bclick\n",
    "    if buttons[\"text\"] == \" \" and bclick == True:\n",
    "        buttons[\"text\"] = \"X\"\n",
    "        demoPlacer((i,j),1)\n",
    "        bclick = False\n",
    "    elif buttons[\"text\"] == \" \" and bclick == False:\n",
    "        buttons[\"text\"] = \"O\"\n",
    "        demoPlacer((i,j),2)\n",
    "        bclick = True\n",
    "    winner=evaluate(board)\n",
    "    if winner==1:\n",
    "        messagebox.showinfo(\"Winner\",\"Player1\")\n",
    "    elif winner==2:\n",
    "        messagebox.showinfo(\"Winner\",\"Player2\")\n",
    "    elif winner==-1:\n",
    "        messagebox.showinfo(\"Try Again\",\"Tie\")   "
   ]
  },
  {
   "cell_type": "markdown",
   "metadata": {},
   "source": [
    "<h7><b> Gui layout"
   ]
  },
  {
   "cell_type": "code",
   "execution_count": 13,
   "metadata": {},
   "outputs": [],
   "source": [
    "def main():\n",
    "    button1 = Button(tk,text=\" \",font=('Times 20 bold'),bg='white',fg='black',height=4,width=8,command=lambda:ttt(button1,0,0))\n",
    "    button1.grid(row=1,column=0)\n",
    "    button2 = Button(tk,text=\" \",font=('Times 20 bold'),bg='white',fg='black',height=4,width=8,command=lambda:ttt(button2,0,1))\n",
    "    button2.grid(row=1,column=1)\n",
    "    button3 = Button(tk,text=\" \",font=('Times 20 bold'),bg='white',fg='black',height=4,width=8,command=lambda:ttt(button3,0,2))\n",
    "    button3.grid(row=1,column=2)\n",
    "    button4 = Button(tk,text=\" \",font=('Times 20 bold'),bg='white',fg='black',height=4,width=8,command=lambda:ttt(button4,1,0))\n",
    "    button4.grid(row=2,column=0)\n",
    "    button5 = Button(tk,text=\" \",font=('Times 20 bold'),bg='white',fg='black',height=4,width=8,command=lambda:ttt(button5,1,1))\n",
    "    button5.grid(row=2,column=1)\n",
    "    button6 = Button(tk,text=\" \",font=('Times 20 bold'),bg='white',fg='black',height=4,width=8,command=lambda:ttt(button6,1,2))\n",
    "    button6.grid(row=2,column=2)\n",
    "    button7 = Button(tk,text=\" \",font=('Times 20 bold'),bg='white',fg='black',height=4,width=8,command=lambda:ttt(button7,2,0))\n",
    "    button7.grid(row=3,column=0)\n",
    "    button8 = Button(tk,text=\" \",font=('Times 20 bold'),bg='white',fg='black',height=4,width=8,command=lambda:ttt(button8,2,1))\n",
    "    button8.grid(row=3,column=1)\n",
    "    button9 = Button(tk,text=\" \",font=('Times 20 bold'),bg='white',fg='black',height=4,width=8,command=lambda:ttt(button9,2,2))\n",
    "    button9.grid(row=3,column=2)\n",
    "    buttons=[button1,button2,button3,button4,button5,button6,button7,button8,button9]\n",
    "    resetbutton = Button(tk,text=\"RESET\",font=('Times 20 bold'),bg='white',fg='black',height=4,width=8,command=lambda:reset(buttons))\n",
    "    resetbutton.grid(row=4,column=1)\n",
    "    #undobutton = Button(tk,text=\"UNDO\",font=('Times 20 bold'),bg='white',fg='black',height=4,width=8,command=lambda:undo(buttons))\n",
    "    #undobutton.grid(row=4,column=0)\n",
    "    #redobutton = Button(tk,text=\"REDO\",font=('Times 20 bold'),bg='white',fg='black',height=4,width=8,command=lambda:redo(buttons))\n",
    "    #redobutton.grid(row=4,column=2)\n",
    "    tk.mainloop() "
   ]
  },
  {
   "cell_type": "markdown",
   "metadata": {},
   "source": [
    "<h7><b> Starting point"
   ]
  },
  {
   "cell_type": "code",
   "execution_count": 14,
   "metadata": {},
   "outputs": [],
   "source": [
    "tk=Tk()\n",
    "tk.title(\"Tic Tac Toe\")\n",
    "bclick=True\n",
    "board, winner, counter = create_board(), 0, 1\n",
    "Board_stack=[]\n",
    "Move=0\n",
    "if __name__==\"__main__\":\n",
    "\n",
    "        main()"
   ]
  },
  {
   "cell_type": "code",
   "execution_count": null,
   "metadata": {},
   "outputs": [],
   "source": []
  }
 ],
 "metadata": {
  "kernelspec": {
   "display_name": "Python 3",
   "language": "python",
   "name": "python3"
  },
  "language_info": {
   "codemirror_mode": {
    "name": "ipython",
    "version": 3
   },
   "file_extension": ".py",
   "mimetype": "text/x-python",
   "name": "python",
   "nbconvert_exporter": "python",
   "pygments_lexer": "ipython3",
   "version": "3.6.5"
  }
 },
 "nbformat": 4,
 "nbformat_minor": 2
}
